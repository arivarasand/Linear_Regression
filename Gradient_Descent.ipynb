{
 "cells": [
  {
   "cell_type": "markdown",
   "metadata": {},
   "source": [
    "# Gradient Descent"
   ]
  },
  {
   "cell_type": "code",
   "execution_count": 1,
   "metadata": {},
   "outputs": [],
   "source": [
    "import numpy as np\n",
    "import pandas as pd\n",
    "import matplotlib.pyplot as plt"
   ]
  },
  {
   "cell_type": "code",
   "execution_count": 79,
   "metadata": {},
   "outputs": [],
   "source": [
    "x=np.array([92,56,88,70,80,49,65,35,66,67])\n",
    "y=np.array([98,68,81,80,83,52,66,30,68,73])\n",
    "x=pd.Series(x)\n",
    "y=pd.Series(y)"
   ]
  },
  {
   "cell_type": "markdown",
   "metadata": {},
   "source": [
    "##### Function to calculate Gradient descent"
   ]
  },
  {
   "cell_type": "code",
   "execution_count": 81,
   "metadata": {},
   "outputs": [],
   "source": [
    "def grad_des(x,y):\n",
    "    m =0\n",
    "    c =0\n",
    "    L = 0.0001  \n",
    "    epoch=1000  \n",
    "    n=len(x)\n",
    "    for i in range(epoch): \n",
    "        y_pred = m*x + c  # The predicted value of Y\n",
    "        MSE= (1/n) * sum([val**2 for val in (y-y_pred)]) #MSE or Loss function\n",
    "        D_m = (-2/n) * sum(x * (y - y_pred))  # Derivative wrt m\n",
    "        D_c = (-2/n) * sum(y - y_pred)  # Derivative wrt c\n",
    "        m = m - L * D_m  # Update m\n",
    "        c = c - L * D_c  # Update c\n",
    "    print (m, c , MSE)"
   ]
  },
  {
   "cell_type": "markdown",
   "metadata": {},
   "source": [
    "##### Calculate the Slope,Coefficient,Loss function"
   ]
  },
  {
   "cell_type": "code",
   "execution_count": 82,
   "metadata": {},
   "outputs": [
    {
     "name": "stdout",
     "output_type": "stream",
     "text": [
      "1.0442475648018756 0.03643038673891087 31.8071504272623\n"
     ]
    }
   ],
   "source": [
    "grad_des(x,y)"
   ]
  },
  {
   "cell_type": "code",
   "execution_count": null,
   "metadata": {},
   "outputs": [],
   "source": []
  }
 ],
 "metadata": {
  "kernelspec": {
   "display_name": "Python 3",
   "language": "python",
   "name": "python3"
  },
  "language_info": {
   "codemirror_mode": {
    "name": "ipython",
    "version": 3
   },
   "file_extension": ".py",
   "mimetype": "text/x-python",
   "name": "python",
   "nbconvert_exporter": "python",
   "pygments_lexer": "ipython3",
   "version": "3.7.7"
  }
 },
 "nbformat": 4,
 "nbformat_minor": 4
}
